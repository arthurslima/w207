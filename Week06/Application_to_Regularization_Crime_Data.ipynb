{
 "cells": [
  {
   "cell_type": "markdown",
   "metadata": {},
   "source": [
    "### An Application: crime data\n",
    "\n",
    "Here's a simple application using one of the UCI data sets: communities and crime.\n",
    "\n",
    "Let's first load the data and do some basic investigations."
   ]
  },
  {
   "cell_type": "code",
   "execution_count": null,
   "metadata": {
    "scrolled": true
   },
   "outputs": [],
   "source": [
    "# This tells matplotlib not to try opening a new window for each plot.\n",
    "%matplotlib inline\n",
    "\n",
    "import matplotlib as mp\n",
    "import matplotlib.pyplot as plt\n",
    "import numpy as np\n",
    "import scipy as sp\n",
    "import pandas as pd\n",
    "\n",
    "from sklearn.linear_model import LinearRegression\n",
    "from sklearn.model_selection import train_test_split\n",
    "\n",
    "# regularization methos\n",
    "from sklearn.linear_model import Ridge\n",
    "from sklearn.linear_model import Lasso"
   ]
  },
  {
   "cell_type": "code",
   "execution_count": null,
   "metadata": {
    "scrolled": true
   },
   "outputs": [],
   "source": [
    "# from: https://github.com/justmarkham/DAT5/blob/master/code/18_regularization.py\n",
    "\n",
    "########## Prepare data ##########\n",
    "# read in data, remove categorical features, remove rows with missing values\n",
    "\n",
    "crime = pd.read_csv('http://archive.ics.uci.edu/ml/machine-learning-databases/communities/communities.data', \n",
    "                    header=None, na_values=['?'])\n",
    "crime = crime.iloc[:, 5:] # get rid of columns that are the names of towns\n",
    "crime.dropna(inplace=True) # drop missing values\n",
    "print(crime.head())\n",
    "\n",
    "# the names of the columns\n",
    "crime_names = np.genfromtxt('comm_names.txt',dtype='str')[5:, :]\n",
    "## Meaning of names: https://archive.ics.uci.edu/ml/datasets/Communities%2Band%2BCrime\n",
    "\n",
    "# define X and y; \n",
    "# y from the last column which is the:\n",
    "# ViolentCrimesPerPop: total number of violent crimes per 100K popuation (numeric - decimal) \n",
    "# GOAL attribute (to be predicted)\n",
    "# (from: https://archive.ics.uci.edu/ml/machine-learning-databases/communities/communities.names)\n",
    "X = crime.iloc[:, :-1]\n",
    "y = crime.iloc[:, -1]\n",
    "\n",
    "# split into train/test\n",
    "X_train, X_test, y_train, y_test = train_test_split(X, y, random_state=1)"
   ]
  },
  {
   "cell_type": "code",
   "execution_count": null,
   "metadata": {
    "scrolled": true
   },
   "outputs": [],
   "source": [
    "# now, fit a few models, let's try linear regresion, ridge regression, and the lasso\n",
    "\n",
    "# linear regression, ridge, lasso\n",
    "\n",
    "lm = LinearRegression()\n",
    "lm.fit(X_train, y_train)\n",
    "\n",
    "lm_test_mse = ((lm.predict(X_test) - y_test) ** 2).mean()\n",
    "\n",
    "# ridge regression\n",
    "rm = Ridge(alpha=1, normalize=False)\n",
    "rm.fit(X_train, y_train)\n",
    "\n",
    "rm_test_mse = ((rm.predict(X_test) - y_test) ** 2).mean()\n",
    "\n",
    "# lasso regression\n",
    "las = Lasso(alpha=0.01, normalize=True, max_iter=100)\n",
    "las.fit(X_train, y_train)\n",
    "\n",
    "las_test_mse = ((las.predict(X_test) - y_test) ** 2).mean()\n",
    "\n",
    "print(\"Linear model test MSE:     \", lm_test_mse)\n",
    "print(\"Ridge regression test MSE: \", rm_test_mse)\n",
    "print(\"Lasso regression test MSE: \", las_test_mse)"
   ]
  },
  {
   "cell_type": "code",
   "execution_count": null,
   "metadata": {
    "scrolled": false
   },
   "outputs": [],
   "source": [
    "# what about the coefficients; what does lasso drop?\n",
    "\n",
    "# extract coefficients\n",
    "lm_coef = lm.coef_\n",
    "rm_coef = rm.coef_\n",
    "las_coef = las.coef_\n",
    "\n",
    "print(\"Non-zero lasso coefficients: \\n\", crime_names[np.where(las_coef!=0), :])\n",
    "\n",
    "# plotting\n",
    "fig = plt.figure()\n",
    "plt.scatter(lm_coef, rm_coef)\n",
    "fig.suptitle('Coefficients: lm vs ridge', fontsize=20)\n",
    "plt.xlabel('LM coefficient')\n",
    "plt.ylabel('Ridge coefficient')\n",
    "\n",
    "fig = plt.figure()\n",
    "plt.scatter(lm_coef, las_coef)\n",
    "fig.suptitle('Coefficients: lm vs lasso', fontsize=20)\n",
    "plt.xlabel('LM coefficient')\n",
    "plt.ylabel('LASSO coefficient')"
   ]
  },
  {
   "cell_type": "code",
   "execution_count": null,
   "metadata": {
    "scrolled": true
   },
   "outputs": [],
   "source": [
    "# looking at the above plot we see that there are a couple of really big coefficients\n",
    "# what are these?\n",
    "print(\"Big lm coefficients: \\n\")\n",
    "big_coefs = np.where(abs(lm_coef) > 5)\n",
    "print(big_coefs, '\\n')\n",
    "\n",
    "print(lm_coef[big_coefs])\n",
    "print(crime_names[big_coefs, :])\n",
    "print('correlation between the big coefficients features: \\n')\n",
    "print(np.corrcoef(np.array(X_train)[:, big_coefs[0][0]],\n",
    "                 np.array(X_train)[:, big_coefs[0][1]]))"
   ]
  },
  {
   "cell_type": "markdown",
   "metadata": {},
   "source": [
    "How can we choose the best alpha? We'll use cross validation here."
   ]
  },
  {
   "cell_type": "code",
   "execution_count": null,
   "metadata": {
    "scrolled": true
   },
   "outputs": [],
   "source": [
    "# investigate those two highly correlated features; what do lasso, ridge do to them?\n",
    "\n",
    "print(big_coefs)\n",
    "print()\n",
    "\n",
    "alpha_vec = [0.000000001, 0.00000001, 0.0000001, 0.000001, 0.00001, 0.0001, 0.001, 0.01, .1, 1, 10, 100]\n",
    "coef_idx = 103\n",
    "rm_coef_values = np.zeros(len(alpha_vec))\n",
    "las_coef_values = np.zeros(len(alpha_vec))\n",
    "lm_coef_line = np.zeros(len(alpha_vec))\n",
    "\n",
    "for aa_idx, aa in enumerate(alpha_vec):\n",
    "    lm = LinearRegression()\n",
    "    lm.fit(X_train, y_train)\n",
    "\n",
    "    rm = Ridge(alpha=aa, normalize=True)\n",
    "    rm.fit(X_train, y_train)\n",
    "    \n",
    "    las = Lasso(alpha=aa, normalize=True, max_iter=100)\n",
    "    las.fit(X_train, y_train)\n",
    "    \n",
    "    rm_coef = rm.coef_[coef_idx]\n",
    "    las_coef = las.coef_[coef_idx]\n",
    "    lm_coef = lm.coef_[coef_idx]\n",
    " \n",
    "    rm_coef_values[aa_idx] = rm_coef\n",
    "    las_coef_values[aa_idx] = las_coef\n",
    "    lm_coef_line[aa_idx] = lm_coef\n",
    "\n",
    "print('Ridge: coefficients', coef_idx, 'for alphas:\\n', rm_coef_values.reshape((-1,1)))\n",
    "print('Lasso: coefficients', coef_idx, 'for alphas:\\n', las_coef_values.reshape((-1,1)) )\n",
    "\n",
    "#plt.plot(np.log(alpha_vec), lm_coef_line * 0)\n",
    "plt.plot(np.log(alpha_vec), rm_coef_values, label='Ridge')\n",
    "plt.plot(np.log(alpha_vec), las_coef_values, label = 'Lasso')\n",
    "plt.plot(np.log(alpha_vec), lm_coef_line, label='No reg')\n",
    "plt.legend()\n",
    "plt.title('Lasso; Ridge (g, b) regularization path\\n for coefficient ' + str(coef_idx) + \n",
    "          '; lm value (red straight line): ' + str(lm_coef))\n",
    "plt.ylabel('Coefficient Values') \n",
    "plt.xlabel('log(Alpha)') \n",
    "plt.show()"
   ]
  },
  {
   "cell_type": "code",
   "execution_count": null,
   "metadata": {
    "scrolled": false
   },
   "outputs": [],
   "source": [
    "# cross validation to select the best alpha parameters\n",
    "\n",
    "from sklearn.model_selection import GridSearchCV\n",
    "from sklearn.metrics import mean_squared_error, make_scorer\n",
    "\n",
    "## IMPLEMENT: how can we use cross validation to choose the best parameters?\n",
    "\n",
    "rm = Ridge(normalize=True)\n",
    "rm_params = {'alpha':[0.0001, 0.001, 0.01, 0.1, 1.0, 10., 100.]}\n",
    "rm_grid = GridSearchCV(rm, rm_params, iid = True, cv=3)\n",
    "\n",
    "rm_grid.fit(X_train, y_train)\n",
    "\n",
    "best_rm_alpha = rm_grid.best_params_['alpha']\n",
    "print('Best rm alpha:', best_rm_alpha)\n",
    "\n",
    "\n",
    "las = Lasso(normalize=True, max_iter = 100)\n",
    "las_params = {'alpha':[0.0001, 0.001, 0.01, 0.1, 1.0, 10., 100.]}\n",
    "las_grid = GridSearchCV(las, las_params, iid = True, cv=3)\n",
    "\n",
    "las_grid.fit(X_train, y_train)\n",
    "\n",
    "best_las_alpha = las_grid.best_params_['alpha']\n",
    "print('Best las alpha:', best_las_alpha)"
   ]
  },
  {
   "cell_type": "code",
   "execution_count": null,
   "metadata": {
    "scrolled": false
   },
   "outputs": [],
   "source": [
    "# finally, re run all the models using the best alpha values as found \n",
    "# by cross validation and plot the results\n",
    "\n",
    "lm = LinearRegression()\n",
    "lm.fit(X_train, y_train)\n",
    "\n",
    "lm_test_mse = ((lm.predict(X_test) - y_test) ** 2).mean()\n",
    "\n",
    "rm_best = Ridge(normalize=False, alpha = best_rm_alpha)\n",
    "rm_best.fit(X_train, y_train)\n",
    "rm_test_mse = ((rm_best.predict(X_test) - y_test) ** 2).mean()\n",
    "\n",
    "las_best = Lasso(normalize=True, max_iter=100, alpha = best_las_alpha)\n",
    "las_best.fit(X_train, y_train)\n",
    "las_test_mse = ((las_best.predict(X_test) - y_test) ** 2).mean()\n",
    "\n",
    "print(\"Linear model test MSE:     \", lm_test_mse)\n",
    "print(\"Ridge regression test MSE @ best CV alpha: \", rm_test_mse)\n",
    "print(\"Lasso regression test MSE @ best CV alpha: \", las_test_mse)\n",
    "\n",
    "print(\"Non-zero lasso coefficients: \\n\")\n",
    "\n",
    "for i in range(len(crime_names[np.where(las_best.coef_!=0), :][0])):\n",
    "    print(crime_names[np.where(las_best.coef_!=0), :][0][i], \" : \", las_best.coef_[np.where(las_best.coef_!=0)[0][i]], \" : \", rm_best.coef_[np.where(las_best.coef_!=0)[0][i]])\n",
    "\n"
   ]
  },
  {
   "cell_type": "code",
   "execution_count": null,
   "metadata": {
    "scrolled": false
   },
   "outputs": [],
   "source": [
    "print(\"\\n\\nDropped (zero) lasso coefficients: \\n\")\n",
    "\n",
    "for i in range(len(crime_names[np.where(las_best.coef_==0), :][0])):\n",
    "    print(crime_names[np.where(las_best.coef_==0), :][0][i], \" : \", las_best.coef_[np.where(las_best.coef_==0)[0][i]], \" : \", rm_best.coef_[np.where(las_best.coef_==0)[0][i]])\n"
   ]
  },
  {
   "cell_type": "code",
   "execution_count": null,
   "metadata": {
    "scrolled": true
   },
   "outputs": [],
   "source": []
  },
  {
   "cell_type": "code",
   "execution_count": null,
   "metadata": {
    "scrolled": true
   },
   "outputs": [],
   "source": []
  }
 ],
 "metadata": {
  "anaconda-cloud": {},
  "kernelspec": {
   "display_name": "Python 3",
   "language": "python",
   "name": "python3"
  },
  "language_info": {
   "codemirror_mode": {
    "name": "ipython",
    "version": 3
   },
   "file_extension": ".py",
   "mimetype": "text/x-python",
   "name": "python",
   "nbconvert_exporter": "python",
   "pygments_lexer": "ipython3",
   "version": "3.5.2"
  }
 },
 "nbformat": 4,
 "nbformat_minor": 1
}
