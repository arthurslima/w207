{
 "cells": [
  {
   "cell_type": "markdown",
   "metadata": {},
   "source": [
    "# K-Means Clustering Implementing"
   ]
  },
  {
   "cell_type": "code",
   "execution_count": null,
   "metadata": {},
   "outputs": [],
   "source": [
    "# This tells matplotlib not to try opening a new window for each plot.\n",
    "%matplotlib inline\n",
    "\n",
    "import matplotlib.pyplot as plt\n",
    "import numpy as np\n",
    "from sklearn.datasets import load_iris\n",
    "from sklearn.cluster import KMeans # for comparison"
   ]
  },
  {
   "cell_type": "markdown",
   "metadata": {},
   "source": [
    "Make some simulated data:"
   ]
  },
  {
   "cell_type": "code",
   "execution_count": null,
   "metadata": {},
   "outputs": [],
   "source": [
    "# Make some simple data on the unit square\n",
    "def MakeUnifData(N):\n",
    "    XX = np.vstack((np.random.rand(N, 2),\n",
    "                    np.random.rand(N, 2) + 1,\n",
    "                    np.random.rand(N, 2) - 1,\n",
    "                    np.random.rand(N, 2) + 2,\n",
    "                    np.random.rand(N, 2) - 2))\n",
    "    return(XX)\n",
    "\n",
    "X = MakeUnifData(20)\n",
    "plt.scatter(X[:, 0], X[:, 1])"
   ]
  },
  {
   "cell_type": "markdown",
   "metadata": {},
   "source": [
    "Let's implement K means, which has the following steps:\n",
    "\n",
    "1. Pick some starting points\n",
    "2. Iterate until we get no updating of cluster assignments:\n",
    "\n",
    "    a. Assign points to nearest cluster centroid  \n",
    "    b. Calculate centroids of each cluster"
   ]
  },
  {
   "cell_type": "code",
   "execution_count": null,
   "metadata": {},
   "outputs": [],
   "source": [
    "def Init(X, k):\n",
    "    # initialize k-mean centers\n",
    "    # random selections\n",
    "    selections = np.random.choice(X.shape[0], k, replace=False)\n",
    "    return X[selections, :]\n",
    "\n",
    "\n",
    "def KmeansPlusPlusInit(X, k):\n",
    "    ## We will code this together\n",
    "    \n",
    "    return 1\n",
    "    \n",
    "    \n",
    "\n",
    "    \n",
    "def AssignClusters(X, centers):\n",
    "    # Return the array assigns that contains for each sample x in X the index of the\n",
    "    # center, which is closest to x\n",
    "    \n",
    "    n = X.shape[0]\n",
    "    assigns = np.zeros((n,))\n",
    "    \n",
    "    ### YOUR CODE HERE  ###\n",
    "    \n",
    "    return assigns\n",
    "    \n",
    "    \n",
    "    \n",
    "def CalculateCenters(X, cluster_assign, k):\n",
    "    # Return the array centers that contains in each row i the mean of all samples\n",
    "    # belonging to the ith cluster.\n",
    "    m = X.shape[1]\n",
    "    centers = np.zeros((k,m))\n",
    "    \n",
    "    ### YOUR CODE HERE ###\n",
    "        \n",
    "    return centers\n",
    "\n",
    "    \n",
    "    \n",
    "def Criteria(X, cluster_assign):\n",
    "    ## We will code this together\n",
    "   \n",
    "    return 1\n",
    "    \n",
    "    \n",
    "def MyKmeans(X, k, plot=True, with_print=True):\n",
    "    \n",
    "    # initialize\n",
    "    centers = Init(X, k)\n",
    "    #centers = KmeansPlusPlusInit(X, k)\n",
    "   \n",
    "    cluster_assign = AssignClusters(X, centers)\n",
    "\n",
    "     # iterate:\n",
    "    max_iter = 10\n",
    "    \n",
    "    if plot:\n",
    "        f, ax = plt.subplots(max_iter + 1)\n",
    "        f.set_figheight(max_iter * 3)\n",
    "        f.set_figwidth(3)\n",
    "        \n",
    "        ax[0].scatter(X[:, 0], X[:, 1], c=cluster_assign, s=100)\n",
    "        ax[0].scatter(centers[:, 0], centers[:, 1], c='gold', s=100)\n",
    "\n",
    "        \n",
    "   \n",
    "    for ii in range(max_iter):\n",
    "        # assign points\n",
    "        cluster_assign = AssignClusters(X, centers)\n",
    "        \n",
    "        prev_centers = centers\n",
    "        \n",
    "        centers = CalculateCenters(X, cluster_assign, k)\n",
    "        \n",
    "        print(ii, ':', np.sum(prev_centers == centers) == (k*2), Criteria(X, cluster_assign))\n",
    "        \n",
    "        if plot:\n",
    "            ax[ii+1].scatter(X[:, 0], X[:, 1], c=cluster_assign, s=100)\n",
    "            ax[ii+1].scatter(centers[:, 0], centers[:, 1], c='gold', s=100)\n",
    "    \n",
    "        if plot:\n",
    "            f.set_figheight(max_iter * 3)\n",
    "            f.set_figwidth(3)\n",
    "        \n",
    "   "
   ]
  },
  {
   "cell_type": "code",
   "execution_count": null,
   "metadata": {
    "scrolled": false
   },
   "outputs": [],
   "source": [
    "MyKmeans(X,5)"
   ]
  },
  {
   "cell_type": "code",
   "execution_count": null,
   "metadata": {},
   "outputs": [],
   "source": []
  },
  {
   "cell_type": "code",
   "execution_count": null,
   "metadata": {
    "scrolled": true
   },
   "outputs": [],
   "source": [
    "scores = []\n",
    "\n",
    "for kk in range(2, 10):\n",
    "    scores.append(MyKmeans(X, kk, plot=False, with_print=False))\n",
    "    \n",
    "print(scores)\n",
    "plt.scatter(range(2, 10), scores)\n",
    "plt.xlabel('k')\n",
    "plt.ylabel('scores')"
   ]
  },
  {
   "cell_type": "code",
   "execution_count": null,
   "metadata": {},
   "outputs": [],
   "source": [
    "# check for clustering stability\n",
    "\n",
    "criteria_list = []\n",
    "\n",
    "for rr in range(10):\n",
    "    criteria_list.append(MyKmeans(X, 5, plot=False, with_print=False))\n",
    "    \n",
    "print(criteria_list)\n",
    "\n",
    "plt.scatter(range(10), criteria_list)\n",
    "plt.ylim(0.9,1.02)"
   ]
  },
  {
   "cell_type": "code",
   "execution_count": null,
   "metadata": {},
   "outputs": [],
   "source": []
  }
 ],
 "metadata": {
  "kernelspec": {
   "display_name": "Python 3",
   "language": "python",
   "name": "python3"
  },
  "language_info": {
   "codemirror_mode": {
    "name": "ipython",
    "version": 3
   },
   "file_extension": ".py",
   "mimetype": "text/x-python",
   "name": "python",
   "nbconvert_exporter": "python",
   "pygments_lexer": "ipython3",
   "version": "3.7.1"
  }
 },
 "nbformat": 4,
 "nbformat_minor": 1
}
