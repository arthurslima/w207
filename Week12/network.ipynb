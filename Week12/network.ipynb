{
 "cells": [
  {
   "cell_type": "markdown",
   "metadata": {},
   "source": [
    "# The Network"
   ]
  },
  {
   "cell_type": "markdown",
   "metadata": {},
   "source": [
    "For this one, we'll use the networkx package to visualize network data.\n",
    "\n",
    "https://networkx.github.io/\n",
    "\n",
    "In this notebook, we'll do some simple things with graphs!"
   ]
  },
  {
   "cell_type": "code",
   "execution_count": null,
   "metadata": {
    "scrolled": true
   },
   "outputs": [],
   "source": [
    "# This tells matplotlib not to try opening a new window for each plot.\n",
    "%matplotlib inline\n",
    "\n",
    "# You will need to install 'networkx'\n",
    "import networkx as nx\n",
    "\n",
    "import numpy as np\n",
    "import scipy as sp\n",
    "import matplotlib.pyplot as plt\n",
    "\n",
    "from matplotlib.colors import ListedColormap\n",
    "from sklearn.preprocessing import StandardScaler\n",
    "from sklearn.datasets import make_moons, make_circles, make_classification\n",
    "\n",
    "from sklearn.decomposition import PCA\n",
    "from sklearn.decomposition import KernelPCA\n",
    "from sklearn.decomposition import SparsePCA\n",
    "\n",
    "#from sklearn.cluster import AgglomerativeClustering \n",
    "from sklearn.cluster import KMeans \n",
    "\n",
    "from sklearn.datasets import make_swiss_roll\n",
    "from sklearn.datasets import make_s_curve\n",
    "from sklearn.datasets import make_circles"
   ]
  },
  {
   "cell_type": "code",
   "execution_count": null,
   "metadata": {},
   "outputs": [],
   "source": [
    "# small demo of networkx; plotting graphs with it\n",
    "G = nx.Graph()\n",
    "\n",
    "G.add_node('The Shire')\n",
    "G.add_node('Mordor')\n",
    "G.add_node('That place with\\n the elves')\n",
    "\n",
    "G.add_edge('The Shire', 'That place with\\n the elves')\n",
    "G.add_edge('That place with\\n the elves', 'Mordor')"
   ]
  },
  {
   "cell_type": "code",
   "execution_count": null,
   "metadata": {},
   "outputs": [],
   "source": [
    "# Getting an adjacency matrix from the graph object\n",
    "\n",
    "print(\"Node set: \", G.nodes())\n",
    "print(nx.adjacency_matrix(G).toarray())"
   ]
  },
  {
   "cell_type": "code",
   "execution_count": null,
   "metadata": {},
   "outputs": [],
   "source": [
    "# plotting a graph\n",
    "\n",
    "def nice_graph_plot(G, node_size=1000, edge_width=2, font_size=10, layout=\"spectral\"):\n",
    "    if layout == \"spectral\":\n",
    "        node_position = nx.spectral_layout(G)\n",
    "    elif layout == \"spring\":\n",
    "        node_position = nx.spring_layout(G)\n",
    "    else:\n",
    "        print(\"No valid layout provided\")\n",
    "    \n",
    "    nx.draw_networkx_nodes(G, node_position, node_size=node_size, alpha=1, node_color='pink')\n",
    "    nx.draw_networkx_edges(G, node_position, width=edge_width, alpha=.8, edge_color='black')\n",
    "    nx.draw_networkx_labels(G, node_position, font_size=font_size, font_family='sans-serif')\n",
    "    \n",
    "    plt.show()\n",
    "    \n",
    "nice_graph_plot(G, 10000)"
   ]
  },
  {
   "cell_type": "markdown",
   "metadata": {},
   "source": [
    "# Graphs from an adjacency matrix\n",
    "\n",
    "Write a function that makes a networkx graph object from an adjacency matrix.\n",
    "\n",
    "Assume that the adjacency matrix is for an undirected graph; that is, the matrix is symmetric."
   ]
  },
  {
   "cell_type": "code",
   "execution_count": null,
   "metadata": {
    "scrolled": true
   },
   "outputs": [],
   "source": [
    "# a simple test adjacency matrix\n",
    "A = np.array([[0, 1, 1], \n",
    "              [1, 0, 0],\n",
    "              [1, 0, 0]])\n",
    "\n",
    "# a not as simple adjacency matrix\n",
    "B = np.array([[0, 1, 1, 0, 0, 0, 0, 0, 0],\n",
    "              [1, 0, 1, 0, 1, 1, 0, 0, 0],\n",
    "              [1, 1, 0, 0, 1, 0, 0, 0, 0],\n",
    "              [0, 0, 0, 0, 1, 0, 1, 0, 0],\n",
    "              [0, 1, 1, 1, 0, 0, 1, 1, 0],\n",
    "              [0, 1, 0, 0, 0, 0, 0, 1, 0],\n",
    "              [0, 0, 0, 1, 1, 0, 0, 0, 1],\n",
    "              [0, 0, 0, 0, 1, 1, 0, 0, 1],\n",
    "              [0, 0, 0, 0, 0, 0, 1, 1, 0]])\n",
    "\n",
    "#### YOUR CODE HERE  ####\n",
    "\n",
    "\n",
    "def make_graph(A):\n",
    "    G = nx.Graph() \n",
    "    return G\n",
    "            \n",
    "            \n",
    "G = make_graph(B)     \n",
    "nice_graph_plot(G)"
   ]
  },
  {
   "cell_type": "markdown",
   "metadata": {},
   "source": [
    "# Degree from an adjacency matrix\n",
    "\n",
    "Assume again you have an undirected graph's adjacency matrix.\n",
    "\n",
    "Write a function to compute the degree of each node from a matrix.\n",
    "\n",
    "Use the make_degree_dist_histogram to plot the degree distribution"
   ]
  },
  {
   "cell_type": "code",
   "execution_count": null,
   "metadata": {},
   "outputs": [],
   "source": [
    "def make_degree_dist_histogram(degrees, title=\"\"):\n",
    "    plt.hist(degrees, np.ptp(degrees) + 1)\n",
    "    plt.title(title)\n",
    "    plt.show()\n",
    "    \n",
    "def get_degrees(A):\n",
    "    \n",
    "    ## YOUR CODE HERE\n",
    "    \n",
    "    return 0\n",
    "\n",
    "    \n",
    "print(get_degrees(B))\n",
    "make_degree_dist_histogram(get_degrees(B))"
   ]
  },
  {
   "cell_type": "markdown",
   "metadata": {},
   "source": [
    "# Random graphs\n",
    "\n",
    "networkx has a few random graph generators, lets try them out!\n",
    "\n",
    "Look at the random graphs here:\n",
    "https://networkx.github.io/documentation/networkx-1.10/reference/generators.html\n",
    "\n",
    "Some interesting ones:\n",
    "\n",
    "1. barbell_graph is a cute fixed one\n",
    "2. erdos-renyi graphs https://en.wikipedia.org/wiki/Erd%C5%91s%E2%80%93R%C3%A9nyi_model Here, we draw edges at random between edges, giving a certain degree distribution. Does this graph look like anything real?\n",
    "3. watts_strogatz_graph https://en.wikipedia.org/wiki/Watts_and_Strogatz_model This graph makes 'small world' graphs.\n",
    "4. barabasi_albert_graph https://en.wikipedia.org/wiki/Barab%C3%A1si%E2%80%93Albert_model This makes graphs with power law distributions, which is something we observe a lot in real social networks (e.g. consider the graph of Twitter users)"
   ]
  },
  {
   "cell_type": "code",
   "execution_count": null,
   "metadata": {
    "scrolled": false
   },
   "outputs": [],
   "source": [
    "print(\"BARBELL\")\n",
    "GBB = nx.barbell_graph(5, 2)\n",
    "nice_graph_plot(GBB, layout=\"spring\")\n",
    "make_degree_dist_histogram(get_degrees(nx.adjacency_matrix(GBB).toarray()))\n",
    "\n",
    "print(\"ERDOS-RENYI\")\n",
    "GER = nx.fast_gnp_random_graph(10, 0.15)\n",
    "nice_graph_plot(GER, layout=\"spring\")\n",
    "make_degree_dist_histogram(get_degrees(nx.adjacency_matrix(GER).toarray()))\n",
    "\n",
    "print(\"LOBSTER\")\n",
    "GLOB = nx.random_lobster(10, 0.25, 0.75)\n",
    "nice_graph_plot(GLOB, layout=\"spring\", node_size=100)\n",
    "make_degree_dist_histogram(get_degrees(nx.adjacency_matrix(GLOB).toarray()))\n",
    "\n",
    "print(\"WATTS-STROGATZ\")\n",
    "GWS = nx.watts_strogatz_graph(25, 10, .4)\n",
    "nice_graph_plot(GWS, layout=\"spring\", node_size=100)\n",
    "make_degree_dist_histogram(get_degrees(nx.adjacency_matrix(GWS).toarray()))\n",
    "\n",
    "print(\"BARABASI-ALBERT\")\n",
    "GBA = nx.barabasi_albert_graph(100, 2)\n",
    "nice_graph_plot(GBA, layout=\"spring\", node_size=100)\n",
    "make_degree_dist_histogram(get_degrees(nx.adjacency_matrix(GBA).toarray()))\n",
    "\n",
    "print('PETERSEN')\n",
    "GP = nx.petersen_graph()\n",
    "nice_graph_plot(GP, layout='spring')\n",
    "make_degree_dist_histogram(get_degrees(nx.adjacency_matrix(GP).toarray()))"
   ]
  },
  {
   "cell_type": "markdown",
   "metadata": {
    "collapsed": true
   },
   "source": [
    "# Closeness\n",
    "\n",
    "Implement a measure of closeness. For example as defined in coursework:\n",
    "\n",
    "$$Closeness(node_i) = \\frac{N-1}{\\sum_{j=1,j\\neq i}^N Dist(node_i,node_j)}$$\n",
    "\n",
    "Hint: the adjacency matrix for two steps is given by the adjacency matrix squared, e.g.:\n",
    "\n",
    "np.dot(A, A)\n",
    "\n",
    "This generalizes to any number of steps.\n",
    "\n",
    "Plot closeness distributions for some random graphs."
   ]
  },
  {
   "cell_type": "code",
   "execution_count": null,
   "metadata": {
    "scrolled": false
   },
   "outputs": [],
   "source": [
    "\n",
    "        \n",
    "###   YOUR CODE HERE #####\n",
    "\n"
   ]
  },
  {
   "cell_type": "code",
   "execution_count": null,
   "metadata": {},
   "outputs": [],
   "source": []
  },
  {
   "cell_type": "code",
   "execution_count": null,
   "metadata": {},
   "outputs": [],
   "source": []
  },
  {
   "cell_type": "code",
   "execution_count": null,
   "metadata": {},
   "outputs": [],
   "source": []
  }
 ],
 "metadata": {
  "anaconda-cloud": {},
  "kernelspec": {
   "display_name": "Python 3",
   "language": "python",
   "name": "python3"
  },
  "language_info": {
   "codemirror_mode": {
    "name": "ipython",
    "version": 3
   },
   "file_extension": ".py",
   "mimetype": "text/x-python",
   "name": "python",
   "nbconvert_exporter": "python",
   "pygments_lexer": "ipython3",
   "version": "3.7.1"
  }
 },
 "nbformat": 4,
 "nbformat_minor": 1
}
